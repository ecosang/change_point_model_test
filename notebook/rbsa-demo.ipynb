{
 "cells": [
  {
   "cell_type": "markdown",
   "metadata": {},
   "source": [
    "# Change point model for real dataset\n",
    "\n",
    "By Sang woo Ham (ecosang@gmail.com), Last edited on 09/15/2021\n",
    "\n",
    "## Table of Contents\n",
    "\n",
    "* [Introduction](#Introduction)\n",
    "* [Dataset](#Dataset)\n",
    "* [Example](#Example)\n",
    "* [Discussion points](#Discussion-points)\n",
    "* [References](#References)\n"
   ]
  },
  {
   "cell_type": "markdown",
   "metadata": {},
   "source": [
    "# Introduction\n",
    "\n",
    "Building energy analysis is a challenging task because of its complexity and lacks in systematic data collection. Therefore, the application of building energy model into the real dataset is complicated and even fails in many cases. In this notebook, we apply the change point model into the real dataset and discuss possible challenges.\n",
    "\n"
   ]
  },
  {
   "cell_type": "markdown",
   "metadata": {},
   "source": [
    "# Dataset\n",
    "\n",
    "Residential Building Stock Assessment(RBSA) dataset [1,2] is large-scale residential energy consumption survey prepared by Ecotope, Inc. for Northwest Energy Efficiency Alliance (NEEA). Two studies have beeen conducted in parallel. One is survey (phone call and billing information) based baseline study for large poluation. The other is detailed measurements for daily load shapes of end-use level. \n",
    "\n",
    ">*primary objective of the RBSA is to develop an inventory and profile of existing residential building stock in the Northwest based on field data from a representative, random sample of existing homes. The RBSA establishes the 2011 regional baseline for housing stock for three categories of residences: single-family homes, manufactured homes, and multifamily homes. The results will guide future planning efforts and provide a solid base for assessing energy savings on residential programs throughout the Northwest.*\n",
    "\n",
    "The dataset is available from these two links [link1](https://neea.org/data/residential-building-stock-assessment) and [link2](https://neea.org/resources/2011-rbsa-metering-study). But, for the simplicity, we provide the pre-processed data in this notebook.\n",
    "\n",
    "\n",
    "\n",
    "\n",
    "\n"
   ]
  },
  {
   "cell_type": "code",
   "execution_count": 1,
   "metadata": {},
   "outputs": [],
   "source": [
    "\n",
    "# loading required packages\n",
    "import pandas as pd\n",
    "import numpy as np\n",
    "import matplotlib.pyplot as plt # visualization\n",
    "import pyarrow.feather as feather\n",
    "import os\n",
    "\n",
    "%matplotlib inline"
   ]
  },
  {
   "cell_type": "markdown",
   "metadata": {},
   "source": [
    "The first part of the RBSA data is building metadata and yearly energy consumption. We've processed the data as a csv file. Below table shows the data.\n"
   ]
  },
  {
   "cell_type": "code",
   "execution_count": 2,
   "metadata": {},
   "outputs": [
    {
     "data": {
      "text/html": [
       "<div>\n",
       "<style scoped>\n",
       "    .dataframe tbody tr th:only-of-type {\n",
       "        vertical-align: middle;\n",
       "    }\n",
       "\n",
       "    .dataframe tbody tr th {\n",
       "        vertical-align: top;\n",
       "    }\n",
       "\n",
       "    .dataframe thead th {\n",
       "        text-align: right;\n",
       "    }\n",
       "</style>\n",
       "<table border=\"1\" class=\"dataframe\">\n",
       "  <thead>\n",
       "    <tr style=\"text-align: right;\">\n",
       "      <th></th>\n",
       "      <th>siteid</th>\n",
       "      <th>heat_elec</th>\n",
       "      <th>heat_elec_type</th>\n",
       "      <th>heat_elec_control</th>\n",
       "      <th>heat_elec_dist</th>\n",
       "      <th>heat_gas</th>\n",
       "      <th>heat_gas_type</th>\n",
       "      <th>heat_gas_control</th>\n",
       "      <th>heat_gas_dist</th>\n",
       "      <th>backup_elec</th>\n",
       "      <th>...</th>\n",
       "      <th>hw_elec</th>\n",
       "      <th>hw_gas</th>\n",
       "      <th>hw_btuhr</th>\n",
       "      <th>hw_kw</th>\n",
       "      <th>hw_solar</th>\n",
       "      <th>hw_conditioned</th>\n",
       "      <th>hw_year</th>\n",
       "      <th>hw_size</th>\n",
       "      <th>hw_type</th>\n",
       "      <th>ua_window</th>\n",
       "    </tr>\n",
       "  </thead>\n",
       "  <tbody>\n",
       "    <tr>\n",
       "      <th>0</th>\n",
       "      <td>10040</td>\n",
       "      <td>1</td>\n",
       "      <td>baseboard</td>\n",
       "      <td>thermostat</td>\n",
       "      <td>zonal</td>\n",
       "      <td>0</td>\n",
       "      <td>none</td>\n",
       "      <td>none</td>\n",
       "      <td>none</td>\n",
       "      <td>0</td>\n",
       "      <td>...</td>\n",
       "      <td>1.0</td>\n",
       "      <td>0.0</td>\n",
       "      <td>0.0</td>\n",
       "      <td>5.5</td>\n",
       "      <td>0.0</td>\n",
       "      <td>1.0</td>\n",
       "      <td>1999.0</td>\n",
       "      <td>50.0</td>\n",
       "      <td>tank</td>\n",
       "      <td>83.050002</td>\n",
       "    </tr>\n",
       "    <tr>\n",
       "      <th>1</th>\n",
       "      <td>10388</td>\n",
       "      <td>1</td>\n",
       "      <td>baseboard</td>\n",
       "      <td>thermostat</td>\n",
       "      <td>zonal</td>\n",
       "      <td>0</td>\n",
       "      <td>none</td>\n",
       "      <td>none</td>\n",
       "      <td>none</td>\n",
       "      <td>1</td>\n",
       "      <td>...</td>\n",
       "      <td>1.0</td>\n",
       "      <td>0.0</td>\n",
       "      <td>0.0</td>\n",
       "      <td>4.5</td>\n",
       "      <td>0.0</td>\n",
       "      <td>1.0</td>\n",
       "      <td>1999.0</td>\n",
       "      <td>40.0</td>\n",
       "      <td>tank</td>\n",
       "      <td>74.249998</td>\n",
       "    </tr>\n",
       "    <tr>\n",
       "      <th>2</th>\n",
       "      <td>10887</td>\n",
       "      <td>1</td>\n",
       "      <td>hp</td>\n",
       "      <td>programmable</td>\n",
       "      <td>ducted</td>\n",
       "      <td>0</td>\n",
       "      <td>none</td>\n",
       "      <td>none</td>\n",
       "      <td>none</td>\n",
       "      <td>1</td>\n",
       "      <td>...</td>\n",
       "      <td>1.0</td>\n",
       "      <td>0.0</td>\n",
       "      <td>0.0</td>\n",
       "      <td>4.5</td>\n",
       "      <td>0.0</td>\n",
       "      <td>1.0</td>\n",
       "      <td>2003.0</td>\n",
       "      <td>50.0</td>\n",
       "      <td>tank</td>\n",
       "      <td>354.549995</td>\n",
       "    </tr>\n",
       "  </tbody>\n",
       "</table>\n",
       "<p>3 rows × 72 columns</p>\n",
       "</div>"
      ],
      "text/plain": [
       "   siteid  heat_elec heat_elec_type heat_elec_control heat_elec_dist  \\\n",
       "0   10040          1      baseboard        thermostat          zonal   \n",
       "1   10388          1      baseboard        thermostat          zonal   \n",
       "2   10887          1             hp      programmable         ducted   \n",
       "\n",
       "   heat_gas heat_gas_type heat_gas_control heat_gas_dist  backup_elec  ...  \\\n",
       "0         0          none             none          none            0  ...   \n",
       "1         0          none             none          none            1  ...   \n",
       "2         0          none             none          none            1  ...   \n",
       "\n",
       "   hw_elec  hw_gas  hw_btuhr  hw_kw  hw_solar  hw_conditioned  hw_year  \\\n",
       "0      1.0     0.0       0.0    5.5       0.0             1.0   1999.0   \n",
       "1      1.0     0.0       0.0    4.5       0.0             1.0   1999.0   \n",
       "2      1.0     0.0       0.0    4.5       0.0             1.0   2003.0   \n",
       "\n",
       "   hw_size  hw_type   ua_window  \n",
       "0     50.0     tank   83.050002  \n",
       "1     40.0     tank   74.249998  \n",
       "2     50.0     tank  354.549995  \n",
       "\n",
       "[3 rows x 72 columns]"
      ]
     },
     "execution_count": 2,
     "metadata": {},
     "output_type": "execute_result"
    }
   ],
   "source": [
    "# building metadata\n",
    "survey=pd.read_csv(\"../data/rbsa/survey.csv\")\n",
    "survey.head(3)"
   ]
  },
  {
   "cell_type": "markdown",
   "metadata": {},
   "source": [
    "| Name | Description |\n",
    "| :--- | :----------- |\n",
    "| siteid | An unique identifier for a a residential building |\n",
    "| heat_[elec/gas] | Whether to have an electric/gas heating device. (1: yes, 0: no). |\n",
    "| heat_[elec/gas]_type | Type of heating device. (`baseboard`, `boiler`, `hp`: heatpump, `faf`: forced air furnace, `gshp`: geo-source heatpump, `dualfuelhp`: dual fuel heatpump) |\n",
    "| heat_[elec/gas]_control | Control method of heating device. (`programmable`: programmable thermostat, `thermostat`: non-programmable thermostat, `none`: no control device, `on/off` or `manual`: on/off switch|\n",
    "| heat_[elec/gas]_dist | Heating distribution method of heating device. (`ducted`: air duct, `zonal`: device in each zone, `none`: no heating device.|\n",
    "| backup_[elec/gas/other] | If there is backup [electric/gas/other] heating device.|\n",
    "|num_[bath/bedroom]  | Number of bathroom/bedroom. |\n",
    "|MoveIn  | Move in year. |\n",
    "| year_built | Built year of the building. |\n",
    "| homebusiness | If residnets are doing home business. |\n",
    "| homerent | Home ownership (rent:1, non-rent: 0).|\n",
    "| primaryres | Is this home your primary residence? (1: yes, 0: no) |\n",
    "| income_support | Do you get any income support? (1: yes, 0: no) |\n",
    "| workingoutside | How many people are working outside? |\n",
    "|num_occupant  | Number of occupants. |\n",
    "|has_[kid/senior]|Whether to have kids or senior people in the building.|\n",
    "|dish_load|Number of dishwasher loads per week|\n",
    "|wash_load|Number of clothes washer loads per week|\n",
    "|ac_use|Whether to use air-conditioning device. (1: yes, 0: no).|\n",
    "|heat_sp|Self-reported averaged heating setpoint [F].|\n",
    "|heat_sp_night|Self-reported heating setpoint in night time [F].|\n",
    "|ave_height|Average height of the building [ft].|\n",
    "|ua_ceiling|Overall UA value of ceiling [BTU/(hr-F)].|\n",
    "|has_dryer|Whether to have a dryer (or more) (1: yes, 0: no). |\n",
    "|num_computer|Number of computers.|\n",
    "| cook_[elec/gas] | Electric or gas cooking. |\n",
    "| has_washer | Do you have a washer (1: yes, 0: no). |\n",
    "| dryer_elec | Whether to have electric dryer (1: yes, 0: no). |\n",
    "| dryer_gas | Whether to have gas dryer (1: yes, 0: no). |\n",
    "| num_[audio/charger/game/tv] | Number of audio device, charger, game, or TV. |\n",
    "| y_kwh |Yearly electricity consumption. |\n",
    "| y_kbtu | Yearly gas consumption. |\n",
    "| light_ex_watt | The total wattage of exterior lights installed [W]. |\n",
    "| ua_floor | Overall UA value of floors [BTU/(hr-F)].  |\n",
    "| light_in_watt | The total wattage of interior lights installed [W]. |\n",
    "| bldg_type | Building type (Single residnetial home or multiplex building). |\n",
    "| level_floor | Indicates the number of floors above grade present at site |\n",
    "| num_room | Number of rooms |\n",
    "|  tot_sqft | The conditioned area in square feet (calculated). |\n",
    "| tot_vol | The estimated volume of the house (calculated). |\n",
    "| fraction_window | Calculated ratio of window area square foot over site conditioned square foot. |\n",
    "| [hdd65/cdd65] | Heating/cooling degree day. |\n",
    "| population_city | Number of population in the city. |\n",
    "| pv | Whether to have a photovoltaic. |\n",
    "| year_ref | Refrigerator year of manufacture. |\n",
    "| vol_ref | Volume of refrigerator [ft3]. |\n",
    "| flow_shower | Size of shower fixtures [gpm] |\n",
    "| ua_total | Overall UA value of all surfaces [BTU/(hr-F)]. |\n",
    "| ua_wall | Overall UA value of walls [BTU/(hr-F)]. |\n",
    "| hw_[elec/gas] | Electric or gas water heater (1: yes, 0: no). |\n",
    "| hw_[btuhr/kw] | Size of gas/electric water heater [btu/hr or kW] |\n",
    "| hw_solar | Whether to use solar water heater. |\n",
    "| hw_conditioned | If the water heater is located in conditioned space. |\n",
    "| hw_year | Water heater year of manufacture. |\n",
    "| hw_size | Water heater size [Gallons]. |\n",
    "| hw_type | Water heater type. |\n",
    "| ua_window | Overall UA value of windows [BTU/(hr-F)]. |"
   ]
  },
  {
   "cell_type": "markdown",
   "metadata": {},
   "source": [
    "The second part of the RBSA data is time-series meter data for each house. Hourly data is splitted into 8 pieces (i.e., `hourly_meter_data_x.feather`). Daily data is one file. Loading all data may be not available when you have a computer with small memory. Each file includes data of different houses. It includes appliance specific energy consumption in kWh. Also, it has outdoor and indoor air temperatures.\n"
   ]
  },
  {
   "cell_type": "code",
   "execution_count": 3,
   "metadata": {},
   "outputs": [],
   "source": [
    "df=feather.read_feather(\"../data/rbsa/daily_meter_data.feather\")"
   ]
  },
  {
   "cell_type": "code",
   "execution_count": 4,
   "metadata": {
    "scrolled": false
   },
   "outputs": [
    {
     "data": {
      "text/html": [
       "<div>\n",
       "<style scoped>\n",
       "    .dataframe tbody tr th:only-of-type {\n",
       "        vertical-align: middle;\n",
       "    }\n",
       "\n",
       "    .dataframe tbody tr th {\n",
       "        vertical-align: top;\n",
       "    }\n",
       "\n",
       "    .dataframe thead th {\n",
       "        text-align: right;\n",
       "    }\n",
       "</style>\n",
       "<table border=\"1\" class=\"dataframe\">\n",
       "  <thead>\n",
       "    <tr style=\"text-align: right;\">\n",
       "      <th></th>\n",
       "      <th>ymd</th>\n",
       "      <th>siteid</th>\n",
       "      <th>heating</th>\n",
       "      <th>heating_gas</th>\n",
       "      <th>cooling</th>\n",
       "      <th>lighting</th>\n",
       "      <th>plug</th>\n",
       "      <th>water_heater</th>\n",
       "      <th>water_haeter_gas</th>\n",
       "      <th>dryer</th>\n",
       "      <th>...</th>\n",
       "      <th>fridge</th>\n",
       "      <th>washer</th>\n",
       "      <th>microwave</th>\n",
       "      <th>range</th>\n",
       "      <th>total</th>\n",
       "      <th>other</th>\n",
       "      <th>rat</th>\n",
       "      <th>oat</th>\n",
       "      <th>thp</th>\n",
       "      <th>wst</th>\n",
       "    </tr>\n",
       "  </thead>\n",
       "  <tbody>\n",
       "    <tr>\n",
       "      <th>0</th>\n",
       "      <td>2012-04-01</td>\n",
       "      <td>10388</td>\n",
       "      <td>9.169033</td>\n",
       "      <td>0.0</td>\n",
       "      <td>0.0</td>\n",
       "      <td>0.060109</td>\n",
       "      <td>5.600307</td>\n",
       "      <td>9.87</td>\n",
       "      <td>0.0</td>\n",
       "      <td>0.00</td>\n",
       "      <td>...</td>\n",
       "      <td>1.818958</td>\n",
       "      <td>0.000000</td>\n",
       "      <td>0.0</td>\n",
       "      <td>1.38</td>\n",
       "      <td>32.80</td>\n",
       "      <td>4.901593</td>\n",
       "      <td>17.805208</td>\n",
       "      <td>44.288941</td>\n",
       "      <td>0.000000</td>\n",
       "      <td>42.857639</td>\n",
       "    </tr>\n",
       "    <tr>\n",
       "      <th>1</th>\n",
       "      <td>2012-04-01</td>\n",
       "      <td>10887</td>\n",
       "      <td>68.340000</td>\n",
       "      <td>0.0</td>\n",
       "      <td>0.0</td>\n",
       "      <td>0.120777</td>\n",
       "      <td>2.597950</td>\n",
       "      <td>14.07</td>\n",
       "      <td>0.0</td>\n",
       "      <td>3.50</td>\n",
       "      <td>...</td>\n",
       "      <td>1.770670</td>\n",
       "      <td>0.092803</td>\n",
       "      <td>0.0</td>\n",
       "      <td>0.00</td>\n",
       "      <td>93.56</td>\n",
       "      <td>3.067801</td>\n",
       "      <td>17.612500</td>\n",
       "      <td>46.316493</td>\n",
       "      <td>136.723819</td>\n",
       "      <td>42.857639</td>\n",
       "    </tr>\n",
       "    <tr>\n",
       "      <th>2</th>\n",
       "      <td>2012-04-01</td>\n",
       "      <td>11418</td>\n",
       "      <td>17.400000</td>\n",
       "      <td>0.0</td>\n",
       "      <td>0.0</td>\n",
       "      <td>0.354287</td>\n",
       "      <td>1.791102</td>\n",
       "      <td>8.90</td>\n",
       "      <td>0.0</td>\n",
       "      <td>2.15</td>\n",
       "      <td>...</td>\n",
       "      <td>1.698230</td>\n",
       "      <td>0.150000</td>\n",
       "      <td>0.0</td>\n",
       "      <td>2.56</td>\n",
       "      <td>38.91</td>\n",
       "      <td>3.906381</td>\n",
       "      <td>16.837500</td>\n",
       "      <td>44.792986</td>\n",
       "      <td>76.022639</td>\n",
       "      <td>44.340278</td>\n",
       "    </tr>\n",
       "  </tbody>\n",
       "</table>\n",
       "<p>3 rows × 21 columns</p>\n",
       "</div>"
      ],
      "text/plain": [
       "          ymd  siteid    heating  heating_gas  cooling  lighting      plug  \\\n",
       "0  2012-04-01   10388   9.169033          0.0      0.0  0.060109  5.600307   \n",
       "1  2012-04-01   10887  68.340000          0.0      0.0  0.120777  2.597950   \n",
       "2  2012-04-01   11418  17.400000          0.0      0.0  0.354287  1.791102   \n",
       "\n",
       "   water_heater  water_haeter_gas  dryer  ...    fridge    washer  microwave  \\\n",
       "0          9.87               0.0   0.00  ...  1.818958  0.000000        0.0   \n",
       "1         14.07               0.0   3.50  ...  1.770670  0.092803        0.0   \n",
       "2          8.90               0.0   2.15  ...  1.698230  0.150000        0.0   \n",
       "\n",
       "   range  total     other        rat        oat         thp        wst  \n",
       "0   1.38  32.80  4.901593  17.805208  44.288941    0.000000  42.857639  \n",
       "1   0.00  93.56  3.067801  17.612500  46.316493  136.723819  42.857639  \n",
       "2   2.56  38.91  3.906381  16.837500  44.792986   76.022639  44.340278  \n",
       "\n",
       "[3 rows x 21 columns]"
      ]
     },
     "execution_count": 4,
     "metadata": {},
     "output_type": "execute_result"
    }
   ],
   "source": [
    "df.head(3)"
   ]
  },
  {
   "cell_type": "markdown",
   "metadata": {},
   "source": [
    "|Name|Description|\n",
    "|:-|:-|\n",
    "|[ymd/timehour]|Day or Hourly timestamp|\n",
    "|siteid|An unique identifier for a a residential building|\n",
    "|heating|Heating device electricity consumption [kWh].|\n",
    "|heating_gas|Heating device gas consumption [kWh].|\n",
    "|cooling|Cooling device electricity consumption [kWh].|\n",
    "|total|Total electricity consumption [kWh].|\n",
    "|other|Total electricity - sum of all appliance specific electricity [kWh].|\n",
    "|rat|Room air temperature [F].|\n",
    "|oat|Outdoor air temperature [F].|\n",
    "|thp| Heat pump vapor line temperature measured in Fahrenheit [F].|\n",
    "|wst| Outdoor air temperature from the nearest weather station [F].|\n",
    "\n",
    "The other columns (lighting, plug, water_heater, water_haeter_gas, dryer, dwasher, fridge, washer, microwave, range) show the electricity consumption of each appliance. "
   ]
  },
  {
   "cell_type": "markdown",
   "metadata": {},
   "source": [
    "# Example\n",
    "\n",
    "Change point model [3-5] is used to analyze the impact of retrofit. However, it is also used to characterize house's building thermal performance based on the data. In this example, we use a simple example of how to build the change point model by using data of two houses."
   ]
  },
  {
   "cell_type": "code",
   "execution_count": null,
   "metadata": {},
   "outputs": [],
   "source": [
    "\n"
   ]
  },
  {
   "cell_type": "code",
   "execution_count": 83,
   "metadata": {},
   "outputs": [],
   "source": [
    "# loading data\n",
    "\n",
    "df=feather.read_feather(\"../data/rbsa/daily_meter_data.feather\") # meter data\n",
    "house_survey=survey[survey.siteid.isin(np.array([21355,22938]))] # meta data\n",
    "# Select two houses. 21355, 22938\n",
    "house1=df[df['siteid']==21355]\n",
    "house2=df[df['siteid']==22938]\n"
   ]
  },
  {
   "cell_type": "markdown",
   "metadata": {},
   "source": [
    "We use two houses (21355: House1, 22938: House2). These two houses show very similar characteristics except for House2 is bigger than House1. Also, House2 is in cold region because its Heating degree days higher."
   ]
  },
  {
   "cell_type": "code",
   "execution_count": 85,
   "metadata": {},
   "outputs": [
    {
     "data": {
      "text/html": [
       "<div>\n",
       "<style scoped>\n",
       "    .dataframe tbody tr th:only-of-type {\n",
       "        vertical-align: middle;\n",
       "    }\n",
       "\n",
       "    .dataframe tbody tr th {\n",
       "        vertical-align: top;\n",
       "    }\n",
       "\n",
       "    .dataframe thead th {\n",
       "        text-align: right;\n",
       "    }\n",
       "</style>\n",
       "<table border=\"1\" class=\"dataframe\">\n",
       "  <thead>\n",
       "    <tr style=\"text-align: right;\">\n",
       "      <th></th>\n",
       "      <th>siteid</th>\n",
       "      <th>heat_elec</th>\n",
       "      <th>heat_elec_control</th>\n",
       "      <th>heat_elec_type</th>\n",
       "      <th>year_built</th>\n",
       "      <th>tot_sqft</th>\n",
       "      <th>heat_sp</th>\n",
       "      <th>ua_total</th>\n",
       "      <th>hdd65</th>\n",
       "      <th>y_kwh</th>\n",
       "    </tr>\n",
       "  </thead>\n",
       "  <tbody>\n",
       "    <tr>\n",
       "      <th>63</th>\n",
       "      <td>21355</td>\n",
       "      <td>1</td>\n",
       "      <td>programmable</td>\n",
       "      <td>faf</td>\n",
       "      <td>1979.0</td>\n",
       "      <td>1040.0</td>\n",
       "      <td>71.0</td>\n",
       "      <td>319.865288</td>\n",
       "      <td>4533.0</td>\n",
       "      <td>13913.793945</td>\n",
       "    </tr>\n",
       "    <tr>\n",
       "      <th>77</th>\n",
       "      <td>22938</td>\n",
       "      <td>1</td>\n",
       "      <td>programmable</td>\n",
       "      <td>faf</td>\n",
       "      <td>1974.0</td>\n",
       "      <td>1875.0</td>\n",
       "      <td>72.0</td>\n",
       "      <td>561.140015</td>\n",
       "      <td>5747.0</td>\n",
       "      <td>24571.248047</td>\n",
       "    </tr>\n",
       "  </tbody>\n",
       "</table>\n",
       "</div>"
      ],
      "text/plain": [
       "    siteid  heat_elec heat_elec_control heat_elec_type  year_built  tot_sqft  \\\n",
       "63   21355          1      programmable            faf      1979.0    1040.0   \n",
       "77   22938          1      programmable            faf      1974.0    1875.0   \n",
       "\n",
       "    heat_sp    ua_total   hdd65         y_kwh  \n",
       "63     71.0  319.865288  4533.0  13913.793945  \n",
       "77     72.0  561.140015  5747.0  24571.248047  "
      ]
     },
     "execution_count": 85,
     "metadata": {},
     "output_type": "execute_result"
    }
   ],
   "source": [
    "house_survey[['siteid','heat_elec','heat_elec_control','heat_elec_type','year_built','tot_sqft','heat_sp','ua_total','hdd65','y_kwh']]"
   ]
  },
  {
   "cell_type": "markdown",
   "metadata": {},
   "source": [
    "Visualize the data. It seems like House2 has cooling energy consumption, but House1's measurement does not have enough measurement in the cooling season (i.e., $oat>75^\\circ\\text{F}$). Therefore, we discard the data for $oat>75^\\circ\\text{F}$ in this analysis."
   ]
  },
  {
   "cell_type": "code",
   "execution_count": 51,
   "metadata": {
    "scrolled": true
   },
   "outputs": [
    {
     "data": {
      "text/plain": [
       "Text(0, 0.5, '$E_{total}$ [kWh]')"
      ]
     },
     "execution_count": 51,
     "metadata": {},
     "output_type": "execute_result"
    },
    {
     "data": {
      "image/png": "[encoded data removed]",
      "text/plain": [
       "<Figure size 864x360 with 2 Axes>"
      ]
     },
     "metadata": {
      "needs_background": "light"
     },
     "output_type": "display_data"
    }
   ],
   "source": [
    "fig, ax =plt.subplots(nrows=1, ncols=2,  figsize=(12,5))\n",
    "ax[0].plot(house1['oat'].to_numpy(), house1['total'].to_numpy(), \"kx\",label=\"House1\",markersize=5,alpha=0.8)\n",
    "#ax[0,0].plot(T_out_grid, piecewise_linear(T_out_grid, *theta_case1),'r-',label='Model (case1)',linewidth=1.0)\n",
    "ax[0].legend(fontsize=10,loc=\"best\")\n",
    "ax[0].set_xlabel(\"$T_{out}$ [${^{\\circ}}$F]\",fontsize=12)\n",
    "ax[0].set_ylabel(\"$E_{total}$ [kWh]\",fontsize=12)\n",
    "#ax[0].set_xlim([-22,30])\n",
    "#ax[0].set_ylim([0,2])\n",
    "\n",
    "ax[1].plot(house2['oat'].to_numpy(), house2['total'].to_numpy(), \"bx\",label=\"House2\",markersize=5,alpha=0.8)\n",
    "#ax[0,0].plot(T_out_grid, piecewise_linear(T_out_grid, *theta_case1),'r-',label='Model (case1)',linewidth=1.0)\n",
    "ax[1].legend(fontsize=10,loc=\"best\")\n",
    "ax[1].set_xlabel(\"$T_{out}$ [${^{\\circ}}$F]\",fontsize=12)\n",
    "ax[1].set_ylabel(\"$E_{total}$ [kWh]\",fontsize=12)"
   ]
  },
  {
   "cell_type": "code",
   "execution_count": 86,
   "metadata": {},
   "outputs": [],
   "source": [
    "# discard summer data\n",
    "house1=house1[house1['oat']<75]\n",
    "house2=house2[house2['oat']<75]"
   ]
  },
  {
   "cell_type": "markdown",
   "metadata": {},
   "source": [
    "Also, it is numerically useful for learning change point model parameters to scale the data into [0,1] range by dividing each variable's maximum value."
   ]
  },
  {
   "cell_type": "code",
   "execution_count": 87,
   "metadata": {},
   "outputs": [],
   "source": [
    "# scaled data frame as shouse1 and shouse2\n",
    "shouse1=house1.copy()\n",
    "shouse2=house2.copy()\n",
    "\n",
    "oat_max=100 # maximum value\n",
    "total_max=200 # maximum value\n",
    "\n",
    "shouse1['oat']=shouse1['oat']/oat_max\n",
    "shouse2['oat']=shouse2['oat']/oat_max\n",
    "\n",
    "shouse1['total']=shouse1['total']/total_max\n",
    "shouse2['total']=shouse2['total']/total_max\n"
   ]
  },
  {
   "cell_type": "markdown",
   "metadata": {},
   "source": [
    "Also, we put bounds to help the optimizer finds correct answer. beta0 is positive number as it represents baseline load. beta1 is negative value because it is heating coefficient. beta2 is in [0,1] range because the oat value is scaled into [0,1]. "
   ]
  },
  {
   "cell_type": "code",
   "execution_count": 90,
   "metadata": {},
   "outputs": [],
   "source": [
    "# Piecewise linear regression model (change point model)\n",
    "# loading package\n",
    "from scipy import optimize\n",
    "\n",
    "def piecewise_linear(x, beta0, beta1, beta2):\n",
    "    condlist = [x < beta2,  x >= beta2] # x<beta3 applies to lambda x: beta0+beta1*x. \n",
    "    funclist = [lambda x: beta0+beta1*(x-beta2), lambda x:beta0 ]\n",
    "    return np.piecewise(x, condlist, funclist) \n",
    "\n",
    "# estimate theta* and covariance of theta*\n",
    "\n",
    "theta_house1 , theta_cov_house1 = optimize.curve_fit(piecewise_linear, shouse1['oat'].to_numpy(), shouse1['total'].to_numpy(),bounds=((0,-np.inf,0),(np.inf,0,1))) #least square\n",
    "theta_house2 , theta_cov_house2 = optimize.curve_fit(piecewise_linear, shouse2['oat'].to_numpy(), shouse2['total'].to_numpy(),bounds=((0,-np.inf,0),(np.inf,0,1))) #least square"
   ]
  },
  {
   "cell_type": "markdown",
   "metadata": {},
   "source": [
    "The change model is well identified."
   ]
  },
  {
   "cell_type": "code",
   "execution_count": 92,
   "metadata": {
    "scrolled": true
   },
   "outputs": [
    {
     "data": {
      "text/plain": [
       "(0, 160)"
      ]
     },
     "execution_count": 92,
     "metadata": {},
     "output_type": "execute_result"
    },
    {
     "data": {
      "image/png": "[encoded data removed]",
      "text/plain": [
       "<Figure size 864x360 with 2 Axes>"
      ]
     },
     "metadata": {
      "needs_background": "light"
     },
     "output_type": "display_data"
    }
   ],
   "source": [
    "oat_grid=np.linspace(0.2,0.8,51)\n",
    "fig, ax =plt.subplots(nrows=1, ncols=2,  figsize=(12,5))\n",
    "ax[0].plot(house1['oat'].to_numpy(), house1['total'].to_numpy(), \"kx\",label=\"House1\",markersize=5,alpha=0.8)\n",
    "ax[0].plot(oat_grid*oat_max, piecewise_linear(oat_grid, *theta_house1)*total_max,'r-',label='Model (House1)',linewidth=1.0)\n",
    "ax[0].legend(fontsize=10,loc=\"best\")\n",
    "ax[0].set_xlabel(\"$T_{out}$ [${^{\\circ}}$F]\",fontsize=12)\n",
    "ax[0].set_ylabel(\"$E_{total}$ [kWh]\",fontsize=12)\n",
    "ax[0].set_xlim([20,80])\n",
    "ax[0].set_ylim([0,160])\n",
    "\n",
    "ax[1].plot(house2['oat'].to_numpy(), house2['total'].to_numpy(), \"kx\",label=\"House2\",markersize=5,alpha=0.8)\n",
    "ax[1].plot(oat_grid*oat_max, piecewise_linear(oat_grid, *theta_house2)*total_max,'r-',label='Model (House2)',linewidth=1.0)\n",
    "ax[1].legend(fontsize=10,loc=\"best\")\n",
    "ax[1].set_xlabel(\"$T_{out}$ [${^{\\circ}}$F]\",fontsize=12)\n",
    "ax[1].set_ylabel(\"$E_{total}$ [kWh]\",fontsize=12)\n",
    "ax[1].set_xlim([20,80])\n",
    "ax[1].set_ylim([0,160])"
   ]
  },
  {
   "cell_type": "markdown",
   "metadata": {},
   "source": [
    "beta1 indicates $HC\\frac{\\Delta t}{\\eta_{\\text{heat}}}$ where $HC=\\left( UA+ c_{p,\\text{air}} \\rho_{\\text{air}} \\dot{V}_{\\text{out}} \\right)$. Therefore, the ratio of beta1 of two houses should be similar to the ratio of UA values of two houses. "
   ]
  },
  {
   "cell_type": "code",
   "execution_count": 93,
   "metadata": {},
   "outputs": [
    {
     "data": {
      "text/plain": [
       "0.6465352002433044"
      ]
     },
     "execution_count": 93,
     "metadata": {},
     "output_type": "execute_result"
    }
   ],
   "source": [
    "# ratio of slopes\n",
    "theta_house1[1]/theta_house2[1]"
   ]
  },
  {
   "cell_type": "code",
   "execution_count": 94,
   "metadata": {},
   "outputs": [
    {
     "data": {
      "text/plain": [
       "0.5700275869586976"
      ]
     },
     "execution_count": 94,
     "metadata": {},
     "output_type": "execute_result"
    }
   ],
   "source": [
    "# ratio of UAs\n",
    "house_survey['ua_total'].to_numpy()[0]/house_survey['ua_total'].to_numpy()[1]"
   ]
  },
  {
   "cell_type": "markdown",
   "metadata": {},
   "source": [
    "It is not exactly same because it is very simplified model. However, we can roughly estimate the overall UA factors without measuring/calculating UA values of the building based on the data. This can be used to identify the badly insulated building fairly quickly based on the data."
   ]
  },
  {
   "cell_type": "markdown",
   "metadata": {},
   "source": [
    "# Discussion points"
   ]
  },
  {
   "cell_type": "markdown",
   "metadata": {},
   "source": [
    "There are several things that we can think of this approach.\n",
    "\n",
    "1. How do you calculate expected energy savings when you upgrade building exterior walls or heating system efficiency?\n",
    "2. What happens if we use hourly data for this analysis? \n",
    "3. How to deal with multiple sources of fuels?\n",
    "4. Building size is not actually something related to retrofitting. Then, how to identify less insulated buildings based on the data? what are required information?\n",
    "5. If building data does not look like to fit the change-point-model. What else we can do?\n"
   ]
  },
  {
   "cell_type": "markdown",
   "metadata": {},
   "source": [
    "# References\n",
    "\n",
    "[1] Baylon, D., Storm, P., Geraghty, K., & Davis, B. (2012). 2011 RESIDENTIAL BUILDING STOCK ASSESSMENT: SINGLE-FAMILY CHARACTERISTICS AND ENERGY USE. Report prepared by Ecotope Inc. for the Northwest Energy Efficiency Alliance.\n",
    "\n",
    "[2] Larson, B., Gilman, L., Davis, R., Logsdon, M., Uslan, J., Hannas, B., Baylon, D., Storm, P., Mugford, V., & Kvaltine, N. (2014). Residential Building Stock Assessment: Metering Study. Report prepared by Ecotope Inc. for the Northwest Energy Efficiency Alliance.\n",
    "\n",
    "[3] Kissock, J. K., Haberl, J. S., & Claridge, D. E. (2003). Inverse modeling toolkit: numerical algorithms. ASHRAE transactions, 109, 425. [(link)](http://www.eeperformance.org/uploads/8/6/5/0/8650231/ashrae_-_inverse_modeling_toolkit_-_numerical_algorithms.pdf)\n",
    "\n",
    "[4] ASHRAE. (2014). ASHRAE Guideline 14–2014, Measurement of Energy, Demand, and Water Savings. [(link)](https://www.techstreet.com/standards/guideline-14-2014-measurement-of-energy-demand-and-water-savings?product_id=1888937)\n",
    "\n",
    "[5] Server, F., Kissock, J. K., Brown, D., & Mulqueen, S. (2011). Estimating industrial building energy savings using inverse simulation. [(link)](https://ecommons.udayton.edu/cgi/viewcontent.cgi?article=1155&context=mee_fac_pub)"
   ]
  },
  {
   "cell_type": "code",
   "execution_count": null,
   "metadata": {},
   "outputs": [],
   "source": []
  }
 ],
 "metadata": {
  "kernelspec": {
   "display_name": "Python 3",
   "language": "python",
   "name": "python3"
  },
  "language_info": {
   "codemirror_mode": {
    "name": "ipython",
    "version": 3
   },
   "file_extension": ".py",
   "mimetype": "text/x-python",
   "name": "python",
   "nbconvert_exporter": "python",
   "pygments_lexer": "ipython3",
   "version": "3.7.6"
  }
 },
 "nbformat": 4,
 "nbformat_minor": 4
}
