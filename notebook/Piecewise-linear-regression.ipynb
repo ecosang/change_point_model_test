{
 "cells": [
  {
   "cell_type": "markdown",
   "metadata": {},
   "source": [
    "# Piecewise linear regression\n",
    "\n",
    "By Sang woo Ham, 09/08/2021\n",
    "\n",
    "## Table of Contents\n",
    "\n",
    "* [Introduction](#Introduction)\n",
    "* [Piecewise linear regression](#Piecewise-linear-regression)\n",
    "* [Parameter estimation](#Parameter-estimation)\n",
    "* [Discussion](#Discussion)\n",
    "* [References](#References)\n",
    "\n",
    "# Introduction\n",
    "\n",
    "This notebook is a simple Python demonstration of [piecewise linear regression](https://online.stat.psu.edu/stat501/lesson/8/8.8). Piecewise linear regression can be used to represent the relationship between outdoor air temperature and whole building energy consumption. This can be viewed as a simple data-driven model of a whole building energy consumption, and it has been widely used for retrofitting application [1,2,3].\n",
    "\n",
    "In this document, We provide a reproducible Python notebook how to make a piecewise linear regression model so that one can apply the model to the building energy consumption data. First, we generate a toy dataset from the known piecewise linear regression model. Then, we provide an optimization based approach to estimate model parameters of the piecewise linear regression model."
   ]
  },
  {
   "cell_type": "markdown",
   "metadata": {},
   "source": [
    "# Piecewise linear regression\n",
    "\n",
    "[Piecewise linear regression](https://online.stat.psu.edu/stat501/lesson/8/8.8) is a model that is composed of several linear regressions for different intervals of indepedent variables. This is useful when the behavior of depedent variable radically change in different intervals of indepdent variables (e.g., heating and cooling energy consumption with respect to outdoor air temperature). \n",
    "\n",
    "To generate the toy dataset, we assume we know the true model parameters of a piecewise linear model. The true model is a combination of two linear lines intersecting at $x=10$:\n",
    "\n",
    "$$\n",
    "\\begin{align}\n",
    "y &= -x+5 &\\text{ if } &x<10 \\\\\n",
    "y &= -x+5+3(x-10) &\\text{ if } &x\\geq10.\n",
    "\\end{align}\n",
    "$$\n",
    "\n",
    "This can be written in this format as shown in those references [1,2,3]:\n",
    "\n",
    "$$y=5-x+3(x-10)^{+},$$\n",
    "\n",
    "where $()^{+}$ is $0$ when the value in $()$ is less than $0$. Likewise, $()^{-}$ is $0$ when the value in $()$ is greater than $0$.\n",
    "\n",
    "In real world, we don't have 100% accurate measurement. For the simplicity, all sources of uncertainties (e.g., measurement errors, noise in data generation process, etc.) are modeled as a single noise $\\varepsilon$. We assume this noise follows a normal distribution of $\\varepsilon \\sim \\text{N}(\\mu_{\\varepsilon}=0,\\sigma_{\\varepsilon}=2)$. \n",
    "\n",
    "With data specific index $i=1,2,...n$:\n",
    "\n",
    "$$y_{i}=5-x_{i}+3(x_{i}-10)^{+}+\\varepsilon_{i}.$$\n",
    "\n",
    "Below code snippet shows how to generate the data."
   ]
  },
  {
   "cell_type": "code",
   "execution_count": 2,
   "metadata": {},
   "outputs": [],
   "source": [
    "# loading required packages.\n",
    "import numpy as np # numpy for numerical calculation \n",
    "import matplotlib.pyplot as plt # visualization\n",
    "%matplotlib inline"
   ]
  },
  {
   "cell_type": "code",
   "execution_count": 4,
   "metadata": {},
   "outputs": [],
   "source": [
    "# fix seed to have consistent random number generation to make this example reproducible. \n",
    "np.random.seed(1234) \n",
    "\n",
    "# Data generation\n",
    "x_data=np.random.uniform(-5,30,100) # Create x data in [-5,30]\n",
    "e_data=np.random.normal(0,2.0,100) # e~Normal(0,2)\n",
    "y_data=np.where(x_data<10,-1*(x_data)+5,-1*x_data+5+3*(x_data-10))+e_data # y data from model(x_data)+e\n",
    "\n",
    "# Data to visualize the true model\n",
    "x_grid=np.linspace(-5,30,36) \n",
    "y_grid=np.where(x_grid<10,-1*(x_grid)+5,-1*x_grid+5+3*(x_grid-10))"
   ]
  },
  {
   "cell_type": "markdown",
   "metadata": {},
   "source": [
    "Below figure shows the generated data and true model in blue x and red line, respectively.  "
   ]
  },
  {
   "cell_type": "code",
   "execution_count": 5,
   "metadata": {},
   "outputs": [
    {
     "data": {
      "text/plain": [
       "<matplotlib.legend.Legend at 0x28036490ac8>"
      ]
     },
     "execution_count": 5,
     "metadata": {},
     "output_type": "execute_result"
    },
    {
     "data": {
      "image/png": "[encoded data removed]",
      "text/plain": [
       "<Figure size 576x432 with 1 Axes>"
      ]
     },
     "metadata": {
      "needs_background": "light"
     },
     "output_type": "display_data"
    }
   ],
   "source": [
    "fig, ax =plt.subplots(nrows=1, ncols=1,  figsize=(8,6))\n",
    "ax.plot(x_data,y_data,'bx',label=\"Generated data\",markersize=5)\n",
    "ax.plot(x_grid,y_grid,'r-',label=\"True model\",linewidth=0.5)\n",
    "ax.set_xlabel(\"$x$\",fontsize=12)\n",
    "ax.set_ylabel(\"$y$\",fontsize=12)\n",
    "ax.legend(loc=\"best\",fontsize=12)"
   ]
  },
  {
   "cell_type": "markdown",
   "metadata": {},
   "source": [
    "# Parameter estimation\n",
    "\n",
    "Now, let's have a different view. We have data set (i.e., `x_data` and `y_data` in the above code, which are $\\{x_i, y_i\\}$ for $i=1,2,...n$). We want to find a piecewise linear regression model that explains the data. \n",
    "\n",
    "Let's parameterizes a piecewise linear regression in the following format:\n",
    "\n",
    "$$y_{i}=\\beta_0+\\beta_{1}x_{i}+\\beta_{2}(x_{i}-\\beta_{3})^{+}+\\varepsilon_{i},$$\n",
    "where $\\varepsilon_{i}\\sim \\text{N}(0,\\sigma_{\\varepsilon})$, and the unknown parameters are $\\beta0$, $\\beta1$, $\\beta2$, $\\beta3$, and $\\sigma_{\\varepsilon}$. \n",
    "\n",
    "There are two types of methods to estimate the parameters: (1) [least-squares method](https://en.wikipedia.org/wiki/Least_squares) and (2) [maximum likelihood estimation (MLE)](https://en.wikipedia.org/wiki/Maximum_likelihood_estimation). MLE method requires the understanding of probabilistic modeling, and both methods give same results for linear regression models with gaussian noise (i.e., $\\varepsilon_{i}\\sim \\text{N}(0,\\sigma_{\\varepsilon})$). Therefore, we use least-square method in this notebook to estimate parameters. In this case, we don't need to explicitly estimate $\\sigma_{\\varepsilon}.$\n",
    "\n",
    "Least-squares method is to find parameters that minimizes the sum of squares of prediction errors. When collecting all the parameters as $\\theta=\\{\\beta_0, \\beta_1, \\beta_2, \\text{ and } \\beta_3 \\}$, the least-squares soltuion of $\\theta^{*}$ is estimated by solving:\n",
    "\n",
    "$$\\theta^{*}=\\underset{\\theta}{\\arg\\min} \\sum_{i=1}^n \\left(y_i-\\hat{y}_i \\right)^2,$$\n",
    "\n",
    "where $\\hat{y}_{i}=\\beta_0+\\beta_{1}x_{i}+\\beta_{2}(x_{i}-\\beta_{3})^{+}$.\n",
    "\n",
    "This problem can be solved by using least-squares method for typical types of curves (linear or non-linear) implemented in [scipy package](https://docs.scipy.org/doc/scipy/reference/generated/scipy.optimize.curve_fit.html). In addition, [numpy package](https://numpy.org/doc/stable/reference/generated/numpy.piecewise.html) provides a function to model the piecewise defined function. Please refer the comments in below code snippet."
   ]
  },
  {
   "cell_type": "code",
   "execution_count": 20,
   "metadata": {},
   "outputs": [],
   "source": [
    "# refer these sites\n",
    "# https://docs.scipy.org/doc/scipy/reference/generated/scipy.optimize.curve_fit.html\n",
    "# https://numpy.org/doc/stable/reference/generated/numpy.piecewise.html\n",
    "\n",
    "# loading package\n",
    "from scipy import optimize\n",
    "\n",
    "def piecewise_linear(x, beta0, beta1, beta2, beta3):\n",
    "    condlist = [x < beta3,  x >= beta3] # x<beta3 applies to lambda x: beta0+beta1*x. \n",
    "    funclist = [lambda x: beta0+beta1*x, lambda x: beta0+beta1*x+beta2*(x-beta3)]\n",
    "    return np.piecewise(x, condlist, funclist) \n",
    "\n",
    "# estimate theta* and covariance of theta*\n",
    "theta , theta_cov = optimize.curve_fit(piecewise_linear, x_data, y_data) #least square"
   ]
  },
  {
   "cell_type": "code",
   "execution_count": 35,
   "metadata": {
    "scrolled": true
   },
   "outputs": [
    {
     "name": "stdout",
     "output_type": "stream",
     "text": [
      "Print results\n",
      "The estimated       beta0*:5.57, beta1*: -1.11, beta2*: 3.2, and  beta3*: 10.12.\n",
      "The true parameters beta0: 5.00, beta1: -1.00,  beta2: 3.00, and  beta3: 10.00\n"
     ]
    }
   ],
   "source": [
    "\n",
    "# beta0, beta1, beta2, beta3\n",
    "print(\"Print results\")\n",
    "print(f'The estimated       beta0*:{round(theta[0],2)}, beta1*: {round(theta[1],2)}, beta2*: {round(theta[2],2)}, and  beta3*: {round(theta[3],2)}.') \n",
    "print(f'The true parameters beta0: 5.00, beta1: -1.00,  beta2: 3.00, and  beta3: 10.00')"
   ]
  },
  {
   "cell_type": "code",
   "execution_count": null,
   "metadata": {},
   "outputs": [],
   "source": []
  },
  {
   "cell_type": "code",
   "execution_count": 26,
   "metadata": {
    "scrolled": true
   },
   "outputs": [
    {
     "data": {
      "text/plain": [
       "<matplotlib.legend.Legend at 0x280373fcac8>"
      ]
     },
     "execution_count": 26,
     "metadata": {},
     "output_type": "execute_result"
    },
    {
     "data": {
      "image/png": "[encoded data removed]",
      "text/plain": [
       "<Figure size 576x432 with 1 Axes>"
      ]
     },
     "metadata": {
      "needs_background": "light"
     },
     "output_type": "display_data"
    }
   ],
   "source": [
    "fig, ax =plt.subplots(nrows=1, ncols=1,  figsize=(8,6))\n",
    "ax.plot(x_data, y_data, \"bx\",label=\"data\", markersize=5)\n",
    "ax.plot(x_grid, piecewise_linear(x_grid, *theta),'g-',label='estimated')\n",
    "ax.plot(x_grid,y_grid,'r-',label='true',linewidth=.5)\n",
    "ax.legend(fontsize=12,loc=\"best\")"
   ]
  },
  {
   "cell_type": "code",
   "execution_count": null,
   "metadata": {},
   "outputs": [],
   "source": []
  },
  {
   "cell_type": "markdown",
   "metadata": {},
   "source": [
    "# Discussion\n",
    "\n",
    "d\n"
   ]
  },
  {
   "cell_type": "code",
   "execution_count": null,
   "metadata": {},
   "outputs": [],
   "source": []
  },
  {
   "cell_type": "markdown",
   "metadata": {},
   "source": [
    "# References\n",
    "\n",
    "[1] Kissock, J. K., Haberl, J. S., & Claridge, D. E. (2003). Inverse modeling toolkit: numerical algorithms. ASHRAE transactions, 109, 425. [(link)](http://www.eeperformance.org/uploads/8/6/5/0/8650231/ashrae_-_inverse_modeling_toolkit_-_numerical_algorithms.pdf)\n",
    "\n",
    "[2] ASHRAE. (2014). ASHRAE Guideline 14–2014, Measurement of Energy, Demand, and Water Savings. [(link)](https://www.techstreet.com/standards/guideline-14-2014-measurement-of-energy-demand-and-water-savings?product_id=1888937)\n",
    "\n",
    "[3] Server, F., Kissock, J. K., Brown, D., & Mulqueen, S. (2011). Estimating industrial building energy savings using inverse simulation. [(link)](https://ecommons.udayton.edu/cgi/viewcontent.cgi?article=1155&context=mee_fac_pub)\n",
    "\n",
    "[4] \n"
   ]
  },
  {
   "cell_type": "code",
   "execution_count": null,
   "metadata": {},
   "outputs": [],
   "source": []
  },
  {
   "cell_type": "code",
   "execution_count": null,
   "metadata": {},
   "outputs": [],
   "source": []
  },
  {
   "cell_type": "code",
   "execution_count": null,
   "metadata": {},
   "outputs": [],
   "source": []
  }
 ],
 "metadata": {
  "kernelspec": {
   "display_name": "Python 3",
   "language": "python",
   "name": "python3"
  },
  "language_info": {
   "codemirror_mode": {
    "name": "ipython",
    "version": 3
   },
   "file_extension": ".py",
   "mimetype": "text/x-python",
   "name": "python",
   "nbconvert_exporter": "python",
   "pygments_lexer": "ipython3",
   "version": "3.7.6"
  }
 },
 "nbformat": 4,
 "nbformat_minor": 4
}
