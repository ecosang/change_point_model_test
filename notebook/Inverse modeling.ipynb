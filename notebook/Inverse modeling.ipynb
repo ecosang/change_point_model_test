{
 "cells": [
  {
   "cell_type": "markdown",
   "metadata": {},
   "source": [
    "\n",
    "Cooling operation\n",
    "\n",
    "$$\\dot{Q}_{c}=\\left( T_{\\text{out}}-T_{\\text{set}}\\right) \\left( UA+\\dot{m}_{\\text{out}}c_{p,\\text{air}} \\right)$$\n",
    "\n",
    "$$\\dot{Q}_{c}=\\eta_{c} E_{c}$$\n",
    "\n",
    "\n"
   ]
  },
  {
   "cell_type": "code",
   "execution_count": null,
   "metadata": {},
   "outputs": [],
   "source": []
  },
  {
   "cell_type": "markdown",
   "metadata": {},
   "source": [
    "\n",
    "Cooling operation\n",
    "\n",
    "$$\\dot{Q}_{c}=\\left( T_{\\text{out}}-T_{\\text{set}}\\right) \\left( UA+\\dot{m}_{\\text{out}}c_{p,\\text{air}} \\right)$$\n",
    "\n",
    "$$\\dot{Q}_{c}=\\eta_{c} E_{c}.$$\n",
    "\n",
    "$$E_{c} = \\frac{1}{\\eta_c}\\left( T_{\\text{out}}-T_{\\text{set}}\\right) \\left( UA+\\dot{m}_{\\text{out}}c_{p,\\text{air}} \\right)=\\beta_{0,c}+\\beta_{1,c}T_{\\text{out}},$$\n",
    "\n",
    "$CC=\\left( UA+\\dot{m}_{\\text{out}}c_{p,\\text{air}} \\right)$\n",
    "\n",
    "where $\\beta_{0,c}=-T_{\\text{set}}\\frac{CC}{\\eta_{c}}$ and $\\beta_{1,c}=\\frac{CC}{\\eta_{c}}$\n"
   ]
  },
  {
   "cell_type": "code",
   "execution_count": null,
   "metadata": {},
   "outputs": [],
   "source": []
  },
  {
   "cell_type": "code",
   "execution_count": null,
   "metadata": {},
   "outputs": [],
   "source": []
  },
  {
   "cell_type": "code",
   "execution_count": null,
   "metadata": {},
   "outputs": [],
   "source": []
  },
  {
   "cell_type": "code",
   "execution_count": null,
   "metadata": {},
   "outputs": [],
   "source": []
  }
 ],
 "metadata": {
  "kernelspec": {
   "display_name": "Python 3",
   "language": "python",
   "name": "python3"
  },
  "language_info": {
   "codemirror_mode": {
    "name": "ipython",
    "version": 3
   },
   "file_extension": ".py",
   "mimetype": "text/x-python",
   "name": "python",
   "nbconvert_exporter": "python",
   "pygments_lexer": "ipython3",
   "version": "3.7.6"
  }
 },
 "nbformat": 4,
 "nbformat_minor": 4
}
